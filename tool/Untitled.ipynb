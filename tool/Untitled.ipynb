{
 "cells": [
  {
   "cell_type": "code",
   "execution_count": 2,
   "metadata": {
    "collapsed": true
   },
   "outputs": [],
   "source": [
    "# Simple Thin Web Server that identifies images containing apples using IBM Watson API\n",
    "\n",
    "# Tornado is a Python library for a simple webserver\n",
    "# install with pip install tornado\n",
    "import tornado.web\n",
    "\n",
    "# Watson Python library\n",
    "# install with pip install watson_developer_cloud\n",
    "# from watson_developer_cloud import VisualRecognitionV3\n",
    "\n",
    "# Native modules\n",
    "import os\n",
    "import uuid"
   ]
  },
  {
   "cell_type": "code",
   "execution_count": null,
   "metadata": {
    "collapsed": true
   },
   "outputs": [],
   "source": [
    "# The code that runs when a POST request is received to /upload\n",
    "class UploadHandler(tornado.web.RequestHandler) :\n",
    "    def post(self):\n",
    "        # Receive a file from the client\n",
    "        fileinfo = self.request.files[\"file\"][0]\n",
    "        file_name = fileinfo['filename']\n",
    "        extn = os.path.splitext(file_name)[1]\n",
    "\n",
    "        # Temporarily store the file server-side\n",
    "        uid = str(uuid.uuid4())\n",
    "        cname = uid + extn\n",
    "        saved_file = cname\n",
    "        fh = open(saved_file, 'wb')\n",
    "        fh.write(fileinfo['body'])\n",
    "        fh.close()\n",
    "\n",
    "        # Upload the temporary file to Watson's Image API and then delete it\n",
    "        with open(cname, 'rb') as f:\n",
    "            watson_result = api.classify(images_file=f)\n",
    "            classes = [x[\"class\"] for x in watson_result[\"images\"][0][\"classifiers\"][0][\"classes\"]]\n",
    "            class_string = ', '.join(classes)\n",
    "\n",
    "        # Compose and return a simple HTML page based on the result, focusing on \"Is apple / not an apple\"\n",
    "        result_page = \"\"\n",
    "        if 'apple' in class_string:\n",
    "            result_page += \"<h1>Yep. That looks like an apple.</h1>\"\n",
    "        else:\n",
    "            result_page += \"<h1>That doesn't look like an apple.</h1>\"\n",
    "        result_page += \"<h2>It also looks like...</h2><ul>\"\n",
    "        for c in classes:\n",
    "            result_page += \"<li>%s</li>\" % c\n",
    "        self.write(result_page)"
   ]
  },
  {
   "cell_type": "code",
   "execution_count": null,
   "metadata": {
    "collapsed": true
   },
   "outputs": [],
   "source": [
    "# The code that runs and returns a simple upload form when a GET request is received to /\n",
    "class IndexHandler(tornado.web.RequestHandler) :\n",
    "    def get(self):\n",
    "        self.write(\n",
    "            \"\"\"\n",
    "            <html>\n",
    "               <body>\n",
    "                  <h1>Is this an apple?</h1>\n",
    "                  <h2>For when you're just not certain... (powered by IBM Watson).</h2>\n",
    "                  <form action=\"upload\" method=\"POST\"\n",
    "                     enctype=\"multipart/form-data\">\n",
    "                     <input type=\"file\" name=\"file\"/>\n",
    "                     <input type=\"submit\"/>\n",
    "                  </form>\n",
    "               </body>\n",
    "            </html>\n",
    "            \"\"\"\n",
    "        )"
   ]
  },
  {
   "cell_type": "code",
   "execution_count": null,
   "metadata": {
    "collapsed": true
   },
   "outputs": [],
   "source": [
    "settings = dict(\n",
    "    debug = True\n",
    ")\n",
    "\n",
    "application = tornado.web.Application([\n",
    "    (r\"/upload\", UploadHandler),\n",
    "    (r\"/\", IndexHandler)\n",
    "])\n",
    "\n",
    "if __name__ == \"__main__\":\n",
    "    port = 9999\n",
    "    application.listen(port)\n",
    "    api = VisualRecognitionV3(version='2016-05-20', api_key='---')\n",
    "    print \"Server ready on %s...\" % port\n",
    "    tornado.ioloop.IOLoop.instance().start()"
   ]
  }
 ],
 "metadata": {
  "anaconda-cloud": {},
  "kernelspec": {
   "display_name": "Python [conda env:python2]",
   "language": "python",
   "name": "conda-env-python2-py"
  },
  "language_info": {
   "codemirror_mode": {
    "name": "ipython",
    "version": 2
   },
   "file_extension": ".py",
   "mimetype": "text/x-python",
   "name": "python",
   "nbconvert_exporter": "python",
   "pygments_lexer": "ipython2",
   "version": "2.7.12"
  }
 },
 "nbformat": 4,
 "nbformat_minor": 1
}
