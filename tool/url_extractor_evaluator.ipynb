{
 "cells": [
  {
   "cell_type": "code",
   "execution_count": 4,
   "metadata": {
    "collapsed": true
   },
   "outputs": [],
   "source": [
    "import webhoseio\n",
    "import pandas as pd\n",
    "\n",
    "#authenticate webhose\n",
    "webhoseio.config(token=\"c948a4db-4446-452e-b811-9f57fe721508\")"
   ]
  },
  {
   "cell_type": "code",
   "execution_count": 5,
   "metadata": {
    "collapsed": false
   },
   "outputs": [],
   "source": [
    "#take new site url as input\n",
    "url = 'http://www.cnn.com/2017/06/24/health/kellyanne-conway-opioid-health-care-bill/index.html'\n",
    "#escape the protocol string\n",
    "url = url.replace('://', '\\:\\/\\/')"
   ]
  },
  {
   "cell_type": "code",
   "execution_count": 6,
   "metadata": {
    "collapsed": false
   },
   "outputs": [],
   "source": [
    "#extract text and metadata from news article url (same format as raw realnews data)\n",
    "output = webhoseio.query(\"filterWebContent\", {\"q\":'thread.url:'+url+' language:english'})\n",
    "df = pd.DataFrame.from_dict(output['posts'])\n",
    "site = (output['posts'][0]['thread']['site_full']).encode('ascii', 'ignore')\n",
    "df['site'] = site"
   ]
  },
  {
   "cell_type": "code",
   "execution_count": 26,
   "metadata": {
    "collapsed": true
   },
   "outputs": [
    {
     "data": {
      "text/html": [
       "<div>\n",
       "<style>\n",
       "    .dataframe thead tr:only-child th {\n",
       "        text-align: right;\n",
       "    }\n",
       "\n",
       "    .dataframe thead th {\n",
       "        text-align: left;\n",
       "    }\n",
       "\n",
       "    .dataframe tbody tr th {\n",
       "        vertical-align: top;\n",
       "    }\n",
       "</style>\n",
       "<table border=\"1\" class=\"dataframe\">\n",
       "  <thead>\n",
       "    <tr style=\"text-align: right;\">\n",
       "      <th></th>\n",
       "      <th>author</th>\n",
       "      <th>crawled</th>\n",
       "      <th>entities</th>\n",
       "      <th>external_links</th>\n",
       "      <th>highlightText</th>\n",
       "      <th>highlightTitle</th>\n",
       "      <th>language</th>\n",
       "      <th>ord_in_thread</th>\n",
       "      <th>published</th>\n",
       "      <th>rating</th>\n",
       "      <th>text</th>\n",
       "      <th>thread</th>\n",
       "      <th>title</th>\n",
       "      <th>url</th>\n",
       "      <th>uuid</th>\n",
       "      <th>site</th>\n",
       "    </tr>\n",
       "  </thead>\n",
       "  <tbody>\n",
       "    <tr>\n",
       "      <th>0</th>\n",
       "      <td></td>\n",
       "      <td>2017-06-24T14:16:37.012+03:00</td>\n",
       "      <td>{u'persons': [{u'name': u'conway', u'sentiment...</td>\n",
       "      <td>[]</td>\n",
       "      <td></td>\n",
       "      <td></td>\n",
       "      <td>english</td>\n",
       "      <td>0</td>\n",
       "      <td>2017-06-24T18:52:00.000+03:00</td>\n",
       "      <td>None</td>\n",
       "      <td>Story highlights Kellyanne Conway defended the...</td>\n",
       "      <td>{u'social': {u'gplus': {u'shares': 1}, u'pinte...</td>\n",
       "      <td>Could Senate health care bill make opioid cris...</td>\n",
       "      <td>http://omgili.com/ri/jHIAmI4hxg.iJPgI2z6a7enpV...</td>\n",
       "      <td>2b9b49248429fa74612877b7194c5da67241afe0</td>\n",
       "      <td>www.cnn.com</td>\n",
       "    </tr>\n",
       "  </tbody>\n",
       "</table>\n",
       "</div>"
      ],
      "text/plain": [
       "  author                        crawled  \\\n",
       "0         2017-06-24T14:16:37.012+03:00   \n",
       "\n",
       "                                            entities external_links  \\\n",
       "0  {u'persons': [{u'name': u'conway', u'sentiment...             []   \n",
       "\n",
       "  highlightText highlightTitle language  ord_in_thread  \\\n",
       "0                               english              0   \n",
       "\n",
       "                       published rating  \\\n",
       "0  2017-06-24T18:52:00.000+03:00   None   \n",
       "\n",
       "                                                text  \\\n",
       "0  Story highlights Kellyanne Conway defended the...   \n",
       "\n",
       "                                              thread  \\\n",
       "0  {u'social': {u'gplus': {u'shares': 1}, u'pinte...   \n",
       "\n",
       "                                               title  \\\n",
       "0  Could Senate health care bill make opioid cris...   \n",
       "\n",
       "                                                 url  \\\n",
       "0  http://omgili.com/ri/jHIAmI4hxg.iJPgI2z6a7enpV...   \n",
       "\n",
       "                                       uuid         site  \n",
       "0  2b9b49248429fa74612877b7194c5da67241afe0  www.cnn.com  "
      ]
     },
     "execution_count": 26,
     "metadata": {},
     "output_type": "execute_result"
    }
   ],
   "source": [
    "#do something with output here"
   ]
  },
  {
   "cell_type": "code",
   "execution_count": null,
   "metadata": {
    "collapsed": true
   },
   "outputs": [],
   "source": []
  }
 ],
 "metadata": {
  "anaconda-cloud": {},
  "kernelspec": {
   "display_name": "Python [conda env:python2]",
   "language": "python",
   "name": "conda-env-python2-py"
  },
  "language_info": {
   "codemirror_mode": {
    "name": "ipython",
    "version": 2
   },
   "file_extension": ".py",
   "mimetype": "text/x-python",
   "name": "python",
   "nbconvert_exporter": "python",
   "pygments_lexer": "ipython2",
   "version": "2.7.12"
  }
 },
 "nbformat": 4,
 "nbformat_minor": 1
}
